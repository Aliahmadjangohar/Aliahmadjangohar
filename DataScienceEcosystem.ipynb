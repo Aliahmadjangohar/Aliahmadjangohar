{
  "nbformat": 4,
  "nbformat_minor": 0,
  "metadata": {
    "colab": {
      "provenance": [],
      "authorship_tag": "ABX9TyNKT0CpaZWByXsbqnhbuMJO",
      "include_colab_link": true
    },
    "kernelspec": {
      "name": "python3",
      "display_name": "Python 3"
    },
    "language_info": {
      "name": "python"
    }
  },
  "cells": [
    {
      "cell_type": "markdown",
      "metadata": {
        "id": "view-in-github",
        "colab_type": "text"
      },
      "source": [
        "<a href=\"https://colab.research.google.com/github/Aliahmadjangohar/Aliahmadjangohar/blob/main/DataScienceEcosystem.ipynb\" target=\"_parent\"><img src=\"https://colab.research.google.com/assets/colab-badge.svg\" alt=\"Open In Colab\"/></a>"
      ]
    },
    {
      "cell_type": "markdown",
      "source": [
        "# Data Science Tools and Ecosystem"
      ],
      "metadata": {
        "id": "ajPwAdhnahOF"
      }
    },
    {
      "cell_type": "markdown",
      "source": [
        "In this notebook, Data Science Tools and Ecosystem are summarized."
      ],
      "metadata": {
        "id": "G_j39IgAayJn"
      }
    },
    {
      "cell_type": "markdown",
      "source": [
        "## Introduction\n",
        "Welcome to this notebook! In this notebook, we will explore various exercises related to data science and programming.\n"
      ],
      "metadata": {
        "id": "6G0lYESVbD_u"
      }
    },
    {
      "cell_type": "markdown",
      "source": [
        "### Data Science Languages\n",
        "- Python\n",
        "- R\n",
        "- SQL\n"
      ],
      "metadata": {
        "id": "rJu-y07abLwW"
      }
    },
    {
      "cell_type": "markdown",
      "source": [
        "### Data Science Libraries\n",
        "- Pandas\n",
        "- NumPy\n",
        "- Matplotlib\n"
      ],
      "metadata": {
        "id": "1VTEtN83bsFD"
      }
    },
    {
      "cell_type": "markdown",
      "source": [
        "### Data Science Tools Table\n",
        "\n",
        "| Tool        | Description                 |\n",
        "|-------------|-----------------------------|\n",
        "| Jupyter     | Interactive notebooks       |\n",
        "| TensorFlow  | Deep learning framework     |\n",
        "| Scikit-learn| Machine learning library    |\n"
      ],
      "metadata": {
        "id": "jxh07dqibt-J"
      }
    },
    {
      "cell_type": "markdown",
      "source": [
        "## Introduction to Arithmetic Expressions\n",
        "Arithmetic expressions involve mathematical operations such as addition, subtraction, multiplication, and division.\n"
      ],
      "metadata": {
        "id": "bIohdKOib4Iu"
      }
    },
    {
      "cell_type": "code",
      "source": [
        "# Multiply and add numbers\n",
        "a = 5\n",
        "b = 3\n",
        "multiply_result = a * b\n",
        "add_result = a + b\n",
        "print(\"Multiplication result:\", multiply_result)\n",
        "print(\"Addition result:\", add_result)\n"
      ],
      "metadata": {
        "colab": {
          "base_uri": "https://localhost:8080/"
        },
        "id": "RXcB7v93aqSi",
        "outputId": "3d987d13-1947-4bf1-f647-910b9e298dbf"
      },
      "execution_count": 1,
      "outputs": [
        {
          "output_type": "stream",
          "name": "stdout",
          "text": [
            "Multiplication result: 15\n",
            "Addition result: 8\n"
          ]
        }
      ]
    },
    {
      "cell_type": "code",
      "source": [
        "# Convert minutes to hours\n",
        "minutes = 120\n",
        "hours = minutes / 60\n",
        "print(\"Hours:\", hours)\n"
      ],
      "metadata": {
        "colab": {
          "base_uri": "https://localhost:8080/"
        },
        "id": "gIhSyLl0cWG1",
        "outputId": "74c9d86b-6903-4d97-a77f-c040adfc1871"
      },
      "execution_count": 2,
      "outputs": [
        {
          "output_type": "stream",
          "name": "stdout",
          "text": [
            "Hours: 2.0\n"
          ]
        }
      ]
    },
    {
      "cell_type": "markdown",
      "source": [
        "## Author\n",
        "This notebook was created by [Ali Ahmad Jan].\n"
      ],
      "metadata": {
        "id": "ETBrS4NScfNg"
      }
    },
    {
      "cell_type": "markdown",
      "source": [],
      "metadata": {
        "id": "xZmI_Nl0clBx"
      }
    }
  ]
}
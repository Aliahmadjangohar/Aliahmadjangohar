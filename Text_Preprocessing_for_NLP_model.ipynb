{
  "nbformat": 4,
  "nbformat_minor": 0,
  "metadata": {
    "colab": {
      "provenance": [],
      "authorship_tag": "ABX9TyPyJjDghfKjGSx2Ag9vRwxT",
      "include_colab_link": true
    },
    "kernelspec": {
      "name": "python3",
      "display_name": "Python 3"
    },
    "language_info": {
      "name": "python"
    }
  },
  "cells": [
    {
      "cell_type": "markdown",
      "metadata": {
        "id": "view-in-github",
        "colab_type": "text"
      },
      "source": [
        "<a href=\"https://colab.research.google.com/github/Aliahmadjangohar/Aliahmadjangohar/blob/main/Text_Preprocessing_for_NLP_model.ipynb\" target=\"_parent\"><img src=\"https://colab.research.google.com/assets/colab-badge.svg\" alt=\"Open In Colab\"/></a>"
      ]
    },
    {
      "cell_type": "markdown",
      "source": [
        "defined several variables related to text processing and training a machine learning model for natural language processing tasksText"
      ],
      "metadata": {
        "id": "i_h-aS43Jk55"
      }
    },
    {
      "cell_type": "code",
      "execution_count": null,
      "metadata": {
        "id": "thBODdr0JvUZ"
      },
      "outputs": [],
      "source": [
        "vocab_size = 10000\n",
        "embedding_dim = 16\n",
        "max_length = 100\n",
        "trunc_type='post'\n",
        "padding_type='post'\n",
        "oov_tok = \"<OOV>\"\n",
        "training_size = 20000"
      ]
    },
    {
      "cell_type": "markdown",
      "source": [
        "The code we provided is a shell command using wget to download a JSON file named \"sarcasm.json\" from a specified URL and save it to the \"/tmp/\" directory. Here's a breakdown of the command"
      ],
      "metadata": {
        "id": "brDlUyYoJ1kk"
      }
    },
    {
      "cell_type": "code",
      "execution_count": null,
      "metadata": {
        "id": "WJJfDAJxJcfI",
        "colab": {
          "base_uri": "https://localhost:8080/"
        },
        "outputId": "69002c0f-c51b-4ad7-ed5c-60f0e3931aa6"
      },
      "outputs": [
        {
          "output_type": "stream",
          "name": "stdout",
          "text": [
            "--2023-08-22 10:34:46--  https://storage.googleapis.com/learning-datasets/sarcasm.json\n",
            "Resolving storage.googleapis.com (storage.googleapis.com)... 74.125.31.128, 74.125.134.128, 74.125.139.128, ...\n",
            "Connecting to storage.googleapis.com (storage.googleapis.com)|74.125.31.128|:443... connected.\n",
            "HTTP request sent, awaiting response... 200 OK\n",
            "Length: 5643545 (5.4M) [application/json]\n",
            "Saving to: ‘/tmp/sarcasm.json’\n",
            "\n",
            "/tmp/sarcasm.json   100%[===================>]   5.38M  --.-KB/s    in 0.06s   \n",
            "\n",
            "2023-08-22 10:34:46 (95.0 MB/s) - ‘/tmp/sarcasm.json’ saved [5643545/5643545]\n",
            "\n"
          ]
        }
      ],
      "source": [
        "!wget --no-check-certificate \\\n",
        "    https://storage.googleapis.com/learning-datasets/sarcasm.json \\\n",
        "    -O /tmp/sarcasm.json"
      ]
    },
    {
      "cell_type": "markdown",
      "source": [
        "import libraries\n"
      ],
      "metadata": {
        "id": "XjK5glkK4dSI"
      }
    },
    {
      "cell_type": "code",
      "source": [
        "import json\n",
        "import tensorflow as tf\n",
        "from tensorflow import keras\n",
        "from tensorflow.keras.preprocessing.text import Tokenizer\n",
        "from tensorflow.keras.preprocessing.sequence import pad_sequences"
      ],
      "metadata": {
        "id": "2y3Y_sNa2dmz"
      },
      "execution_count": null,
      "outputs": []
    },
    {
      "cell_type": "markdown",
      "source": [
        "reads the contents of the \"sarcasm.json\" file, which appears to contain data related to headlines and their corresponding labels (whether they are sarcastic or not). It loads this data into two lists, sentences and labels, by iterating through the JSON data"
      ],
      "metadata": {
        "id": "CJYH16MR4p24"
      }
    },
    {
      "cell_type": "code",
      "source": [
        "with open(\"/tmp/sarcasm.json\", 'r') as f:\n",
        "    datastore = json.load(f)\n",
        "\n",
        "sentences = []\n",
        "labels = []\n",
        "\n",
        "for item in datastore:\n",
        "    sentences.append(item['headline'])\n",
        "    labels.append(item['is_sarcastic'])\n"
      ],
      "metadata": {
        "id": "_59H-B5qz_0z"
      },
      "execution_count": null,
      "outputs": []
    },
    {
      "cell_type": "markdown",
      "source": [
        " splitting our data into training and testing sets. This is a common practice in machine learning to evaluate the performance of a model."
      ],
      "metadata": {
        "id": "f2jAVynk4v3I"
      }
    },
    {
      "cell_type": "code",
      "source": [
        "training_sentences = sentences[0:training_size]\n",
        "testing_sentences = sentences[training_size:]\n",
        "training_labels = labels[0:training_size]\n",
        "testing_labels = labels[training_size:]"
      ],
      "metadata": {
        "id": "-BaC8vyL1V8a"
      },
      "execution_count": null,
      "outputs": []
    },
    {
      "cell_type": "markdown",
      "source": [
        " the Tokenizer and pad_sequences functions to prepare your text data for training a neural network model"
      ],
      "metadata": {
        "id": "V10JWZFW45kS"
      }
    },
    {
      "cell_type": "code",
      "source": [
        "tokenizer = Tokenizer(num_words=vocab_size, oov_token=oov_tok)\n",
        "tokenizer.fit_on_texts(training_sentences)\n",
        "\n",
        "word_index = tokenizer.word_index\n",
        "\n",
        "training_sequences = tokenizer.texts_to_sequences(training_sentences)\n",
        "training_padded = pad_sequences(training_sequences, maxlen=max_length, padding=padding_type, truncating=trunc_type)\n",
        "\n",
        "testing_sequences = tokenizer.texts_to_sequences(testing_sentences)\n",
        "testing_padded = pad_sequences(testing_sequences, maxlen=max_length, padding=padding_type, truncating=trunc_type)\n"
      ],
      "metadata": {
        "id": "SixY0vuP1byQ"
      },
      "execution_count": null,
      "outputs": []
    },
    {
      "cell_type": "markdown",
      "source": [
        "training the model\n"
      ],
      "metadata": {
        "id": "vrVu6ApS5Di3"
      }
    },
    {
      "cell_type": "code",
      "source": [
        "# Need this block to get it to work with TensorFlow 2.x\n",
        "import numpy as np\n",
        "training_padded = np.array(training_padded)\n",
        "training_labels = np.array(training_labels)\n",
        "testing_padded = np.array(testing_padded)\n",
        "testing_labels = np.array(testing_labels)"
      ],
      "metadata": {
        "id": "FT3fHB3k2wBC"
      },
      "execution_count": null,
      "outputs": []
    },
    {
      "cell_type": "code",
      "source": [
        "model = tf.keras.Sequential([\n",
        "    tf.keras.layers.Embedding(vocab_size, embedding_dim, input_length=max_length),\n",
        "    tf.keras.layers.GlobalAveragePooling1D(),\n",
        "    tf.keras.layers.Dense(24, activation='relu'),\n",
        "    tf.keras.layers.Dense(1, activation='sigmoid')\n",
        "])\n",
        "model.compile(loss='binary_crossentropy',optimizer='adam',metrics=['accuracy'])\n",
        "model.summary()"
      ],
      "metadata": {
        "colab": {
          "base_uri": "https://localhost:8080/"
        },
        "id": "nsYtdzZG23Xq",
        "outputId": "ba864cbb-b6d2-4015-da9b-7e6af69a33ad"
      },
      "execution_count": null,
      "outputs": [
        {
          "output_type": "stream",
          "name": "stdout",
          "text": [
            "Model: \"sequential\"\n",
            "_________________________________________________________________\n",
            " Layer (type)                Output Shape              Param #   \n",
            "=================================================================\n",
            " embedding (Embedding)       (None, 100, 16)           160000    \n",
            "                                                                 \n",
            " global_average_pooling1d (G  (None, 16)               0         \n",
            " lobalAveragePooling1D)                                          \n",
            "                                                                 \n",
            " dense (Dense)               (None, 24)                408       \n",
            "                                                                 \n",
            " dense_1 (Dense)             (None, 1)                 25        \n",
            "                                                                 \n",
            "=================================================================\n",
            "Total params: 160,433\n",
            "Trainable params: 160,433\n",
            "Non-trainable params: 0\n",
            "_________________________________________________________________\n"
          ]
        }
      ]
    },
    {
      "cell_type": "code",
      "source": [
        "num_epochs = 30\n",
        "history = model.fit(training_padded, training_labels, epochs=num_epochs, validation_data=(testing_padded, testing_labels), verbose=2)"
      ],
      "metadata": {
        "colab": {
          "base_uri": "https://localhost:8080/"
        },
        "id": "NltT4Vff29bD",
        "outputId": "11747709-4283-4c7a-aab7-520ead3c1b86"
      },
      "execution_count": null,
      "outputs": [
        {
          "output_type": "stream",
          "name": "stdout",
          "text": [
            "Epoch 1/30\n",
            "625/625 - 5s - loss: 0.6663 - accuracy: 0.5941 - val_loss: 0.5855 - val_accuracy: 0.7508 - 5s/epoch - 8ms/step\n",
            "Epoch 2/30\n",
            "625/625 - 3s - loss: 0.4301 - accuracy: 0.8310 - val_loss: 0.3833 - val_accuracy: 0.8374 - 3s/epoch - 5ms/step\n",
            "Epoch 3/30\n",
            "625/625 - 4s - loss: 0.3074 - accuracy: 0.8766 - val_loss: 0.3524 - val_accuracy: 0.8504 - 4s/epoch - 6ms/step\n",
            "Epoch 4/30\n",
            "625/625 - 4s - loss: 0.2570 - accuracy: 0.8990 - val_loss: 0.3449 - val_accuracy: 0.8551 - 4s/epoch - 6ms/step\n",
            "Epoch 5/30\n",
            "625/625 - 3s - loss: 0.2213 - accuracy: 0.9136 - val_loss: 0.3421 - val_accuracy: 0.8569 - 3s/epoch - 5ms/step\n",
            "Epoch 6/30\n",
            "625/625 - 3s - loss: 0.1941 - accuracy: 0.9266 - val_loss: 0.3501 - val_accuracy: 0.8545 - 3s/epoch - 5ms/step\n",
            "Epoch 7/30\n",
            "625/625 - 4s - loss: 0.1722 - accuracy: 0.9345 - val_loss: 0.3636 - val_accuracy: 0.8556 - 4s/epoch - 7ms/step\n",
            "Epoch 8/30\n",
            "625/625 - 3s - loss: 0.1537 - accuracy: 0.9432 - val_loss: 0.3797 - val_accuracy: 0.8536 - 3s/epoch - 5ms/step\n",
            "Epoch 9/30\n",
            "625/625 - 3s - loss: 0.1379 - accuracy: 0.9506 - val_loss: 0.3986 - val_accuracy: 0.8517 - 3s/epoch - 5ms/step\n",
            "Epoch 10/30\n",
            "625/625 - 3s - loss: 0.1253 - accuracy: 0.9561 - val_loss: 0.4431 - val_accuracy: 0.8377 - 3s/epoch - 5ms/step\n",
            "Epoch 11/30\n",
            "625/625 - 4s - loss: 0.1140 - accuracy: 0.9590 - val_loss: 0.4569 - val_accuracy: 0.8393 - 4s/epoch - 7ms/step\n",
            "Epoch 12/30\n",
            "625/625 - 3s - loss: 0.1020 - accuracy: 0.9650 - val_loss: 0.4660 - val_accuracy: 0.8459 - 3s/epoch - 5ms/step\n",
            "Epoch 13/30\n",
            "625/625 - 3s - loss: 0.0939 - accuracy: 0.9686 - val_loss: 0.4937 - val_accuracy: 0.8433 - 3s/epoch - 5ms/step\n",
            "Epoch 14/30\n",
            "625/625 - 3s - loss: 0.0848 - accuracy: 0.9723 - val_loss: 0.5222 - val_accuracy: 0.8414 - 3s/epoch - 5ms/step\n",
            "Epoch 15/30\n",
            "625/625 - 4s - loss: 0.0792 - accuracy: 0.9736 - val_loss: 0.5492 - val_accuracy: 0.8383 - 4s/epoch - 6ms/step\n",
            "Epoch 16/30\n",
            "625/625 - 4s - loss: 0.0712 - accuracy: 0.9771 - val_loss: 0.5787 - val_accuracy: 0.8377 - 4s/epoch - 6ms/step\n",
            "Epoch 17/30\n",
            "625/625 - 3s - loss: 0.0639 - accuracy: 0.9801 - val_loss: 0.6116 - val_accuracy: 0.8347 - 3s/epoch - 5ms/step\n",
            "Epoch 18/30\n",
            "625/625 - 5s - loss: 0.0602 - accuracy: 0.9809 - val_loss: 0.6688 - val_accuracy: 0.8275 - 5s/epoch - 8ms/step\n",
            "Epoch 19/30\n",
            "625/625 - 3s - loss: 0.0545 - accuracy: 0.9840 - val_loss: 0.6743 - val_accuracy: 0.8289 - 3s/epoch - 5ms/step\n",
            "Epoch 20/30\n",
            "625/625 - 3s - loss: 0.0498 - accuracy: 0.9851 - val_loss: 0.7285 - val_accuracy: 0.8238 - 3s/epoch - 5ms/step\n",
            "Epoch 21/30\n",
            "625/625 - 3s - loss: 0.0464 - accuracy: 0.9862 - val_loss: 0.7432 - val_accuracy: 0.8252 - 3s/epoch - 5ms/step\n",
            "Epoch 22/30\n",
            "625/625 - 4s - loss: 0.0429 - accuracy: 0.9868 - val_loss: 0.7783 - val_accuracy: 0.8249 - 4s/epoch - 6ms/step\n",
            "Epoch 23/30\n",
            "625/625 - 3s - loss: 0.0383 - accuracy: 0.9887 - val_loss: 0.8232 - val_accuracy: 0.8201 - 3s/epoch - 5ms/step\n",
            "Epoch 24/30\n",
            "625/625 - 3s - loss: 0.0352 - accuracy: 0.9897 - val_loss: 0.8451 - val_accuracy: 0.8213 - 3s/epoch - 5ms/step\n",
            "Epoch 25/30\n",
            "625/625 - 4s - loss: 0.0330 - accuracy: 0.9903 - val_loss: 0.8986 - val_accuracy: 0.8179 - 4s/epoch - 7ms/step\n",
            "Epoch 26/30\n",
            "625/625 - 3s - loss: 0.0307 - accuracy: 0.9911 - val_loss: 0.9266 - val_accuracy: 0.8173 - 3s/epoch - 5ms/step\n",
            "Epoch 27/30\n",
            "625/625 - 3s - loss: 0.0291 - accuracy: 0.9918 - val_loss: 0.9572 - val_accuracy: 0.8158 - 3s/epoch - 5ms/step\n",
            "Epoch 28/30\n",
            "625/625 - 3s - loss: 0.0255 - accuracy: 0.9931 - val_loss: 1.0183 - val_accuracy: 0.8153 - 3s/epoch - 5ms/step\n",
            "Epoch 29/30\n",
            "625/625 - 4s - loss: 0.0222 - accuracy: 0.9941 - val_loss: 1.0529 - val_accuracy: 0.8106 - 4s/epoch - 7ms/step\n",
            "Epoch 30/30\n",
            "625/625 - 3s - loss: 0.0218 - accuracy: 0.9944 - val_loss: 1.1173 - val_accuracy: 0.8079 - 3s/epoch - 5ms/step\n"
          ]
        }
      ]
    },
    {
      "cell_type": "code",
      "source": [
        "import matplotlib.pyplot as plt\n",
        "\n",
        "def plot_graphs(history, string):\n",
        "  plt.plot(history.history[string])\n",
        "  plt.plot(history.history['val_'+string])\n",
        "  plt.xlabel(\"Epochs\")\n",
        "  plt.ylabel(string)\n",
        "  plt.legend([string, 'val_'+string])\n",
        "  plt.show()\n",
        "\n",
        "plot_graphs(history, \"accuracy\")\n",
        "plot_graphs(history, \"loss\")"
      ],
      "metadata": {
        "colab": {
          "base_uri": "https://localhost:8080/",
          "height": 881
        },
        "id": "2UP3s97R3ja6",
        "outputId": "bd8d5d32-5b1e-4398-9864-e693ed7fd106"
      },
      "execution_count": null,
      "outputs": [
        {
          "output_type": "display_data",
          "data": {
            "text/plain": [
              "<Figure size 640x480 with 1 Axes>"
            ],
            "image/png": "[encoded data removed]"
          },
          "metadata": {}
        },
        {
          "output_type": "display_data",
          "data": {
            "text/plain": [
              "<Figure size 640x480 with 1 Axes>"
            ],
            "image/png": "[encoded data removed]"
          },
          "metadata": {}
        }
      ]
    },
    {
      "cell_type": "code",
      "source": [
        "sentence = [\"granny starting to fear spiders in the garden might be real\", \"game of thrones season finale showing this sunday night\"]\n",
        "sequences = tokenizer.texts_to_sequences(sentence)\n",
        "padded = pad_sequences(sequences, maxlen=max_length, padding=padding_type, truncating=trunc_type)\n",
        "print(model.predict(padded))"
      ],
      "metadata": {
        "colab": {
          "base_uri": "https://localhost:8080/"
        },
        "id": "U6LAot_n3og4",
        "outputId": "bf803c0e-5cb4-4ced-c02b-0f33a38d6b39"
      },
      "execution_count": null,
      "outputs": [
        {
          "output_type": "stream",
          "name": "stdout",
          "text": [
            "1/1 [==============================] - 0s 110ms/step\n",
            "[[9.5977408e-01]\n",
            " [3.3182063e-05]]\n"
          ]
        }
      ]
    }
  ]
}